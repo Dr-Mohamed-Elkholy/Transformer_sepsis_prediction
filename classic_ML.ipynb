{
  "nbformat": 4,
  "nbformat_minor": 0,
  "metadata": {
    "colab": {
      "provenance": [],
      "gpuType": "T4"
    },
    "kernelspec": {
      "name": "python3",
      "display_name": "Python 3"
    },
    "language_info": {
      "name": "python"
    },
    "accelerator": "GPU"
  },
  "cells": [
    {
      "cell_type": "code",
      "execution_count": null,
      "metadata": {
        "id": "eVNTPW_w6R0s"
      },
      "outputs": [],
      "source": []
    },
    {
      "cell_type": "code",
      "source": [
        "import pandas as pd\n",
        "import numpy as np\n",
        "from sklearn.model_selection import train_test_split\n",
        "from sklearn.metrics import accuracy_score, f1_score, roc_auc_score, precision_score, recall_score, fbeta_score, classification_report, confusion_matrix\n",
        "from sklearn.utils.class_weight import compute_class_weight\n",
        "from sklearn.linear_model import LogisticRegression\n",
        "from sklearn.ensemble import RandomForestClassifier\n",
        "from xgboost import XGBClassifier\n"
      ],
      "metadata": {
        "colab": {
          "base_uri": "https://localhost:8080/"
        },
        "id": "oS5Tj84a6S1V",
        "outputId": "0b2cbdfb-06c9-4be0-8ec0-4498f1796c28"
      },
      "execution_count": 2,
      "outputs": [
        {
          "output_type": "stream",
          "name": "stdout",
          "text": [
            "Downloading...\n",
            "From (original): https://drive.google.com/uc?id=1m2zrxuamOjejPA_283824cvmtQ6EzRSM\n",
            "From (redirected): https://drive.google.com/uc?id=1m2zrxuamOjejPA_283824cvmtQ6EzRSM&confirm=t&uuid=a99203f8-594a-439e-8ce3-1f2dd8b88153\n",
            "To: /content/Dataset_ previous values_gpbyID+NoShift+F.Engv3.0.csv\n",
            "100% 420M/420M [00:03<00:00, 138MB/s]\n"
          ]
        },
        {
          "output_type": "stream",
          "name": "stderr",
          "text": [
            "<ipython-input-2-bd3798564eb9>:12: DtypeWarning: Columns (53) have mixed types. Specify dtype option on import or set low_memory=False.\n",
            "  df = pd.read_csv('/content/Dataset_ previous values_gpbyID+NoShift+F.Engv3.0.csv')\n"
          ]
        }
      ]
    },
    {
      "cell_type": "code",
      "source": [
        "\n",
        "# Load the data\n",
        "!gdown https://drive.google.com/uc?id=1m2zrxuamOjejPA_283824cvmtQ6EzRSM\n",
        "df = pd.read_csv('/content/Dataset_ previous values_gpbyID+NoShift+F.Engv3.0.csv')\n"
      ],
      "metadata": {
        "colab": {
          "base_uri": "https://localhost:8080/"
        },
        "id": "DVHW-QEh7Vfw",
        "outputId": "45983d43-b26d-4055-9d51-053d58f2cc90"
      },
      "execution_count": 6,
      "outputs": [
        {
          "output_type": "stream",
          "name": "stdout",
          "text": [
            "Downloading...\n",
            "From (original): https://drive.google.com/uc?id=1m2zrxuamOjejPA_283824cvmtQ6EzRSM\n",
            "From (redirected): https://drive.google.com/uc?id=1m2zrxuamOjejPA_283824cvmtQ6EzRSM&confirm=t&uuid=12402d93-fa5f-466a-8b13-cc0fc6629f4c\n",
            "To: /content/Dataset_ previous values_gpbyID+NoShift+F.Engv3.0.csv\n",
            "100% 420M/420M [00:04<00:00, 92.6MB/s]\n"
          ]
        },
        {
          "output_type": "stream",
          "name": "stderr",
          "text": [
            "<ipython-input-6-4b5ce5cf7488>:3: DtypeWarning: Columns (53) have mixed types. Specify dtype option on import or set low_memory=False.\n",
            "  df = pd.read_csv('/content/Dataset_ previous values_gpbyID+NoShift+F.Engv3.0.csv')\n"
          ]
        }
      ]
    },
    {
      "cell_type": "code",
      "source": [
        "\n",
        "# Dropping unnecessary columns\n",
        "df.drop(['Unnamed: 0', '...1', 'Hour', 'Unit1', 'Unit2', 'Apache_II_Score', 'Patient_ID', 'SOFA_Score', 'SIRS', 'Bilirubin_Creatinine_Ratio'], axis=1, inplace=True)\n",
        "\n",
        "# Data preparation\n",
        "df['datetime'] = pd.to_datetime(df['datetime'])\n",
        "df['hour'] = df['datetime'].dt.hour\n",
        "df['day'] = df['datetime'].dt.day\n",
        "df['month'] = df['datetime'].dt.month\n",
        "df['weekday'] = df['datetime'].dt.weekday\n",
        "df.drop('datetime', axis=1, inplace=True)\n",
        "\n",
        "# Fill NaN values\n",
        "df.fillna(-1, inplace=True)\n",
        "\n",
        "# Addressing class imbalance\n",
        "class_labels = np.unique(df['SepsisLabel'])\n",
        "class_weights = compute_class_weight(class_weight='balanced', classes=class_labels, y=df['SepsisLabel'].values)\n",
        "class_weight_dict = {class_label: weight for class_label, weight in zip(class_labels, class_weights)}\n",
        "print(\"Class Weight Dictionary:\", class_weight_dict)\n",
        "\n",
        "# Split the data into features (X) and target (y)\n",
        "X = df.drop(['SepsisLabel'], axis=1)\n",
        "y = df['SepsisLabel'].values\n",
        "\n",
        "# Split the data into train and test sets\n",
        "X_train, X_test, y_train, y_test = train_test_split(X, y, test_size=0.2, random_state=42, stratify=y)\n"
      ],
      "metadata": {
        "colab": {
          "base_uri": "https://localhost:8080/"
        },
        "id": "wljlM_3_6Ukp",
        "outputId": "0448be52-2cc3-4ed6-fe26-742dadc36065"
      },
      "execution_count": 7,
      "outputs": [
        {
          "output_type": "stream",
          "name": "stdout",
          "text": [
            "Class Weight Dictionary: {0: 0.5091570261380023, 1: 27.801440034388882}\n"
          ]
        }
      ]
    },
    {
      "cell_type": "code",
      "source": [
        "\n",
        "# Logistic Regression\n",
        "lr = LogisticRegression(class_weight=class_weight_dict, random_state=42)\n",
        "lr.fit(X_train, y_train)\n",
        "lr_predictions = lr.predict(X_test)\n",
        "lr_prob_predictions = lr.predict_proba(X_test)[:, 1]\n"
      ],
      "metadata": {
        "colab": {
          "base_uri": "https://localhost:8080/"
        },
        "id": "BQILvkMJ7GNX",
        "outputId": "a31f1b36-33ae-419d-f64a-f978890b565a"
      },
      "execution_count": 8,
      "outputs": [
        {
          "output_type": "stream",
          "name": "stderr",
          "text": [
            "/usr/local/lib/python3.10/dist-packages/sklearn/linear_model/_logistic.py:458: ConvergenceWarning: lbfgs failed to converge (status=1):\n",
            "STOP: TOTAL NO. of ITERATIONS REACHED LIMIT.\n",
            "\n",
            "Increase the number of iterations (max_iter) or scale the data as shown in:\n",
            "    https://scikit-learn.org/stable/modules/preprocessing.html\n",
            "Please also refer to the documentation for alternative solver options:\n",
            "    https://scikit-learn.org/stable/modules/linear_model.html#logistic-regression\n",
            "  n_iter_i = _check_optimize_result(\n"
          ]
        },
        {
          "output_type": "stream",
          "name": "stdout",
          "text": [
            "Logistic Regression:\n",
            "Accuracy: 0.7429\n",
            "Precision: 0.0413\n",
            "Recall: 0.5981\n",
            "F1 Score: 0.0772\n",
            "F2 Score: 0.1617\n",
            "ROC AUC: 0.7233\n",
            "Classification Report:\n",
            "              precision    recall  f1-score   support\n",
            "\n",
            "           0       0.99      0.75      0.85    304859\n",
            "           1       0.04      0.60      0.08      5583\n",
            "\n",
            "    accuracy                           0.74    310442\n",
            "   macro avg       0.52      0.67      0.46    310442\n",
            "weighted avg       0.97      0.74      0.84    310442\n",
            "\n",
            "Confusion Matrix:\n",
            "[[227303  77556]\n",
            " [  2244   3339]]\n",
            "\n",
            "Random Forest:\n",
            "Accuracy: 0.9913\n",
            "Precision: 0.9432\n",
            "Recall: 0.5470\n",
            "F1 Score: 0.6924\n",
            "F2 Score: 0.5972\n",
            "ROC AUC: 0.9966\n",
            "Classification Report:\n",
            "              precision    recall  f1-score   support\n",
            "\n",
            "           0       0.99      1.00      1.00    304859\n",
            "           1       0.94      0.55      0.69      5583\n",
            "\n",
            "    accuracy                           0.99    310442\n",
            "   macro avg       0.97      0.77      0.84    310442\n",
            "weighted avg       0.99      0.99      0.99    310442\n",
            "\n",
            "Confusion Matrix:\n",
            "[[304675    184]\n",
            " [  2529   3054]]\n",
            "\n",
            "XGBoost:\n",
            "Accuracy: 0.9509\n",
            "Precision: 0.2354\n",
            "Recall: 0.7702\n",
            "F1 Score: 0.3606\n",
            "F2 Score: 0.5296\n",
            "ROC AUC: 0.9597\n",
            "Classification Report:\n",
            "              precision    recall  f1-score   support\n",
            "\n",
            "           0       1.00      0.95      0.97    304859\n",
            "           1       0.24      0.77      0.36      5583\n",
            "\n",
            "    accuracy                           0.95    310442\n",
            "   macro avg       0.62      0.86      0.67    310442\n",
            "weighted avg       0.98      0.95      0.96    310442\n",
            "\n",
            "Confusion Matrix:\n",
            "[[290891  13968]\n",
            " [  1283   4300]]\n"
          ]
        }
      ]
    },
    {
      "cell_type": "code",
      "source": [
        "\n",
        "# Random Forest\n",
        "rf = RandomForestClassifier(n_estimators=300, class_weight=class_weight_dict, random_state=42)\n",
        "rf.fit(X_train, y_train)\n",
        "rf_predictions = rf.predict(X_test)\n",
        "rf_prob_predictions = rf.predict_proba(X_test)[:, 1]\n"
      ],
      "metadata": {
        "id": "N8y_9YQ5HnYF"
      },
      "execution_count": 10,
      "outputs": []
    },
    {
      "cell_type": "code",
      "source": [
        "\n",
        "# XGBoost\n",
        "xgb = XGBClassifier(scale_pos_weight=class_weight_dict[1], random_state=42)\n",
        "xgb.fit(X_train, y_train)\n",
        "xgb_predictions = xgb.predict(X_test)\n",
        "xgb_prob_predictions = xgb.predict_proba(X_test)[:, 1]\n"
      ],
      "metadata": {
        "id": "cfxtkuiKHoJf"
      },
      "execution_count": null,
      "outputs": []
    },
    {
      "cell_type": "code",
      "source": [
        "\n",
        "# Evaluation metrics for Logistic Regression\n",
        "lr_accuracy = accuracy_score(y_test, lr_predictions)\n",
        "lr_f1 = f1_score(y_test, lr_predictions)\n",
        "lr_roc_auc = roc_auc_score(y_test, lr_prob_predictions)\n",
        "lr_precision = precision_score(y_test, lr_predictions)\n",
        "lr_recall = recall_score(y_test, lr_predictions)\n",
        "lr_f2 = fbeta_score(y_test, lr_predictions, beta=2)\n",
        "lr_classification_report = classification_report(y_test, lr_predictions)\n",
        "lr_confusion_matrix = confusion_matrix(y_test, lr_predictions)\n",
        "\n",
        "# Evaluation metrics for Random Forest\n",
        "rf_accuracy = accuracy_score(y_test, rf_predictions)\n",
        "rf_f1 = f1_score(y_test, rf_predictions)\n",
        "rf_roc_auc = roc_auc_score(y_test, rf_prob_predictions)\n",
        "rf_precision = precision_score(y_test, rf_predictions)\n",
        "rf_recall = recall_score(y_test, rf_predictions)\n",
        "rf_f2 = fbeta_score(y_test, rf_predictions, beta=2)\n",
        "rf_classification_report = classification_report(y_test, rf_predictions)\n",
        "rf_confusion_matrix = confusion_matrix(y_test, rf_predictions)\n",
        "\n",
        "# Evaluation metrics for XGBoost\n",
        "xgb_accuracy = accuracy_score(y_test, xgb_predictions)\n",
        "xgb_f1 = f1_score(y_test, xgb_predictions)\n",
        "xgb_roc_auc = roc_auc_score(y_test, xgb_prob_predictions)\n",
        "xgb_precision = precision_score(y_test, xgb_predictions)\n",
        "xgb_recall = recall_score(y_test, xgb_predictions)\n",
        "xgb_f2 = fbeta_score(y_test, xgb_predictions, beta=2)\n",
        "xgb_classification_report = classification_report(y_test, xgb_predictions)\n",
        "xgb_confusion_matrix = confusion_matrix(y_test, xgb_predictions)\n"
      ],
      "metadata": {
        "id": "RPm34j6tRQCi"
      },
      "execution_count": 11,
      "outputs": []
    },
    {
      "cell_type": "code",
      "source": [
        "\n",
        "# Print the evaluation metrics for Logistic Regression\n",
        "print(\"Logistic Regression:\")\n",
        "print(f\"Accuracy: {lr_accuracy:.4f}\")\n",
        "print(f\"Precision: {lr_precision:.4f}\")\n",
        "print(f\"Recall: {lr_recall:.4f}\")\n",
        "print(f\"F1 Score: {lr_f1:.4f}\")\n",
        "print(f\"F2 Score: {lr_f2:.4f}\")\n",
        "print(f\"ROC AUC: {lr_roc_auc:.4f}\")\n",
        "print(\"Classification Report:\")\n",
        "print(lr_classification_report)\n",
        "print(\"Confusion Matrix:\")\n",
        "print(lr_confusion_matrix)\n",
        "\n",
        "# Print the evaluation metrics for Random Forest\n",
        "print(\"\\nRandom Forest:\")\n",
        "print(f\"Accuracy: {rf_accuracy:.4f}\")\n",
        "print(f\"Precision: {rf_precision:.4f}\")\n",
        "print(f\"Recall: {rf_recall:.4f}\")\n",
        "print(f\"F1 Score: {rf_f1:.4f}\")\n",
        "print(f\"F2 Score: {rf_f2:.4f}\")\n",
        "print(f\"ROC AUC: {rf_roc_auc:.4f}\")\n",
        "print(\"Classification Report:\")\n",
        "print(rf_classification_report)\n",
        "print(\"Confusion Matrix:\")\n",
        "print(rf_confusion_matrix)\n",
        "\n",
        "# Print the evaluation metrics for XGBoost\n",
        "print(\"\\nXGBoost:\")\n",
        "print(f\"Accuracy: {xgb_accuracy:.4f}\")\n",
        "print(f\"Precision: {xgb_precision:.4f}\")\n",
        "print(f\"Recall: {xgb_recall:.4f}\")\n",
        "print(f\"F1 Score: {xgb_f1:.4f}\")\n",
        "print(f\"F2 Score: {xgb_f2:.4f}\")\n",
        "print(f\"ROC AUC: {xgb_roc_auc:.4f}\")\n",
        "print(\"Classification Report:\")\n",
        "print(xgb_classification_report)\n",
        "print(\"Confusion Matrix:\")\n",
        "print(xgb_confusion_matrix)"
      ],
      "metadata": {
        "colab": {
          "base_uri": "https://localhost:8080/"
        },
        "id": "9ACJLXVGHpv4",
        "outputId": "3f61b5f7-9505-4b6d-ba97-25c334e22465"
      },
      "execution_count": 12,
      "outputs": [
        {
          "output_type": "stream",
          "name": "stdout",
          "text": [
            "Logistic Regression:\n",
            "Accuracy: 0.7429\n",
            "Precision: 0.0413\n",
            "Recall: 0.5981\n",
            "F1 Score: 0.0772\n",
            "F2 Score: 0.1617\n",
            "ROC AUC: 0.7233\n",
            "Classification Report:\n",
            "              precision    recall  f1-score   support\n",
            "\n",
            "           0       0.99      0.75      0.85    304859\n",
            "           1       0.04      0.60      0.08      5583\n",
            "\n",
            "    accuracy                           0.74    310442\n",
            "   macro avg       0.52      0.67      0.46    310442\n",
            "weighted avg       0.97      0.74      0.84    310442\n",
            "\n",
            "Confusion Matrix:\n",
            "[[227303  77556]\n",
            " [  2244   3339]]\n",
            "\n",
            "Random Forest:\n",
            "Accuracy: 0.9914\n",
            "Precision: 0.9406\n",
            "Recall: 0.5554\n",
            "F1 Score: 0.6984\n",
            "F2 Score: 0.6050\n",
            "ROC AUC: 0.9976\n",
            "Classification Report:\n",
            "              precision    recall  f1-score   support\n",
            "\n",
            "           0       0.99      1.00      1.00    304859\n",
            "           1       0.94      0.56      0.70      5583\n",
            "\n",
            "    accuracy                           0.99    310442\n",
            "   macro avg       0.97      0.78      0.85    310442\n",
            "weighted avg       0.99      0.99      0.99    310442\n",
            "\n",
            "Confusion Matrix:\n",
            "[[304663    196]\n",
            " [  2482   3101]]\n",
            "\n",
            "XGBoost:\n",
            "Accuracy: 0.9509\n",
            "Precision: 0.2354\n",
            "Recall: 0.7702\n",
            "F1 Score: 0.3606\n",
            "F2 Score: 0.5296\n",
            "ROC AUC: 0.9597\n",
            "Classification Report:\n",
            "              precision    recall  f1-score   support\n",
            "\n",
            "           0       1.00      0.95      0.97    304859\n",
            "           1       0.24      0.77      0.36      5583\n",
            "\n",
            "    accuracy                           0.95    310442\n",
            "   macro avg       0.62      0.86      0.67    310442\n",
            "weighted avg       0.98      0.95      0.96    310442\n",
            "\n",
            "Confusion Matrix:\n",
            "[[290891  13968]\n",
            " [  1283   4300]]\n"
          ]
        }
      ]
    },
    {
      "cell_type": "code",
      "source": [],
      "metadata": {
        "id": "J6L3A6tJUaV5"
      },
      "execution_count": null,
      "outputs": []
    },
    {
      "cell_type": "code",
      "source": [
        "# Feature importances for Logistic Regression\n",
        "lr_feature_importances = lr.coef_[0]\n",
        "lr_feature_importances_df = pd.DataFrame({'Feature': X.columns, 'Importance': lr_feature_importances})\n",
        "lr_feature_importances_df['Absolute Importance'] = lr_feature_importances_df['Importance'].abs()\n",
        "lr_feature_importances_df = lr_feature_importances_df.sort_values(by='Absolute Importance', ascending=False)\n",
        "\n",
        "# Feature importances for Random Forest\n",
        "rf_feature_importances = rf.feature_importances_\n",
        "rf_feature_importances_df = pd.DataFrame({'Feature': X.columns, 'Importance': rf_feature_importances})\n",
        "rf_feature_importances_df = rf_feature_importances_df.sort_values(by='Importance', ascending=False)\n",
        "\n",
        "# Feature importances for XGBoost\n",
        "xgb_feature_importances = xgb.feature_importances_\n",
        "xgb_feature_importances_df = pd.DataFrame({'Feature': X.columns, 'Importance': xgb_feature_importances})\n",
        "xgb_feature_importances_df = xgb_feature_importances_df.sort_values(by='Importance', ascending=False)\n",
        "\n",
        "# Print feature importances\n",
        "print(\"Logistic Regression Feature Importances:\")\n",
        "print(lr_feature_importances_df)\n",
        "\n",
        "print(\"\\nRandom Forest Feature Importances:\")\n",
        "print(rf_feature_importances_df)\n",
        "\n",
        "print(\"\\nXGBoost Feature Importances:\")\n",
        "print(xgb_feature_importances_df)"
      ],
      "metadata": {
        "colab": {
          "base_uri": "https://localhost:8080/"
        },
        "id": "sL-pQAt2UbJH",
        "outputId": "df7cd8c1-1c5c-4b8a-aa8d-05bf095ef210"
      },
      "execution_count": 13,
      "outputs": [
        {
          "output_type": "stream",
          "name": "stdout",
          "text": [
            "Logistic Regression Feature Importances:\n",
            "                   Feature  Importance  Absolute Importance\n",
            "6                     Resp    0.027621             0.027621\n",
            "31                     WBC    0.025231             0.025231\n",
            "17                 Calcium   -0.019087             0.019087\n",
            "39              NEWS_Score    0.018775             0.018775\n",
            "8               BaseExcess    0.018028             0.018028\n",
            "37                  ICULOS    0.016983             0.016983\n",
            "0                       HR    0.014529             0.014529\n",
            "28                     Hct   -0.010154             0.010154\n",
            "4                      MAP   -0.010072             0.010072\n",
            "15                     BUN    0.008740             0.008740\n",
            "9                     HCO3   -0.007124             0.007124\n",
            "1                    O2Sat   -0.006050             0.006050\n",
            "2                     Temp    0.005909             0.005909\n",
            "7                    EtCO2   -0.005194             0.005194\n",
            "38  Incomplete_qSOFA_Score    0.004938             0.004938\n",
            "13                    SaO2   -0.004267             0.004267\n",
            "24               Phosphate   -0.003428             0.003428\n",
            "18                Chloride   -0.003066             0.003066\n",
            "25               Potassium   -0.002986             0.002986\n",
            "34                     Age   -0.002848             0.002848\n",
            "35                  Gender    0.002500             0.002500\n",
            "29                     Hgb   -0.002121             0.002121\n",
            "22                 Lactate    0.002061             0.002061\n",
            "19              Creatinine    0.001792             0.001792\n",
            "40    BUN_Creatinine_Ratio   -0.001759             0.001759\n",
            "5                      DBP   -0.001719             0.001719\n",
            "10                    FiO2    0.001530             0.001530\n",
            "21                 Glucose    0.001446             0.001446\n",
            "12                   PaCO2   -0.001007             0.001007\n",
            "11                      pH   -0.000966             0.000966\n",
            "27               TroponinI    0.000916             0.000916\n",
            "42                    hour    0.000705             0.000705\n",
            "26         Bilirubin_total    0.000702             0.000702\n",
            "23               Magnesium   -0.000611             0.000611\n",
            "30                     PTT    0.000606             0.000606\n",
            "33               Platelets   -0.000528             0.000528\n",
            "36             HospAdmTime   -0.000455             0.000455\n",
            "43                     day    0.000289             0.000289\n",
            "45                 weekday    0.000289             0.000289\n",
            "3                      SBP   -0.000265             0.000265\n",
            "44                   month    0.000233             0.000233\n",
            "32              Fibrinogen    0.000200             0.000200\n",
            "41             Shock_Index    0.000187             0.000187\n",
            "16            Alkalinephos   -0.000135             0.000135\n",
            "20        Bilirubin_direct   -0.000106             0.000106\n",
            "14                     AST    0.000074             0.000074\n",
            "\n",
            "Random Forest Feature Importances:\n",
            "                   Feature  Importance\n",
            "37                  ICULOS    0.129228\n",
            "2                     Temp    0.048916\n",
            "36             HospAdmTime    0.043311\n",
            "31                     WBC    0.031146\n",
            "33               Platelets    0.027314\n",
            "15                     BUN    0.027133\n",
            "34                     Age    0.026337\n",
            "40    BUN_Creatinine_Ratio    0.026238\n",
            "19              Creatinine    0.026022\n",
            "30                     PTT    0.026022\n",
            "32              Fibrinogen    0.025489\n",
            "0                       HR    0.024733\n",
            "14                     AST    0.024352\n",
            "27               TroponinI    0.023954\n",
            "16            Alkalinephos    0.023857\n",
            "17                 Calcium    0.023230\n",
            "28                     Hct    0.022799\n",
            "41             Shock_Index    0.022690\n",
            "21                 Glucose    0.021862\n",
            "22                 Lactate    0.021780\n",
            "29                     Hgb    0.021174\n",
            "9                     HCO3    0.020979\n",
            "24               Phosphate    0.020891\n",
            "8               BaseExcess    0.020294\n",
            "20        Bilirubin_direct    0.019615\n",
            "13                    SaO2    0.019222\n",
            "12                   PaCO2    0.018974\n",
            "26         Bilirubin_total    0.018565\n",
            "25               Potassium    0.018382\n",
            "11                      pH    0.018133\n",
            "18                Chloride    0.018093\n",
            "6                     Resp    0.018084\n",
            "5                      DBP    0.016707\n",
            "23               Magnesium    0.016043\n",
            "4                      MAP    0.014792\n",
            "10                    FiO2    0.014554\n",
            "3                      SBP    0.013960\n",
            "39              NEWS_Score    0.013718\n",
            "7                    EtCO2    0.013663\n",
            "1                    O2Sat    0.009305\n",
            "38  Incomplete_qSOFA_Score    0.005175\n",
            "35                  Gender    0.003164\n",
            "42                    hour    0.000031\n",
            "45                 weekday    0.000026\n",
            "43                     day    0.000024\n",
            "44                   month    0.000021\n",
            "\n",
            "XGBoost Feature Importances:\n",
            "                   Feature  Importance\n",
            "39              NEWS_Score    0.129299\n",
            "37                  ICULOS    0.098660\n",
            "2                     Temp    0.048401\n",
            "36             HospAdmTime    0.033221\n",
            "41             Shock_Index    0.025312\n",
            "19              Creatinine    0.024003\n",
            "10                    FiO2    0.023966\n",
            "4                      MAP    0.022989\n",
            "35                  Gender    0.022898\n",
            "17                 Calcium    0.022883\n",
            "27               TroponinI    0.022113\n",
            "15                     BUN    0.022100\n",
            "0                       HR    0.021765\n",
            "31                     WBC    0.021060\n",
            "7                    EtCO2    0.018803\n",
            "33               Platelets    0.018707\n",
            "26         Bilirubin_total    0.018467\n",
            "32              Fibrinogen    0.018441\n",
            "30                     PTT    0.018422\n",
            "34                     Age    0.018077\n",
            "8               BaseExcess    0.017776\n",
            "14                     AST    0.017755\n",
            "40    BUN_Creatinine_Ratio    0.017561\n",
            "9                     HCO3    0.017454\n",
            "18                Chloride    0.017152\n",
            "22                 Lactate    0.016966\n",
            "20        Bilirubin_direct    0.016847\n",
            "24               Phosphate    0.016833\n",
            "16            Alkalinephos    0.016642\n",
            "13                    SaO2    0.016391\n",
            "29                     Hgb    0.016179\n",
            "12                   PaCO2    0.015954\n",
            "21                 Glucose    0.015601\n",
            "6                     Resp    0.015394\n",
            "5                      DBP    0.015168\n",
            "11                      pH    0.014981\n",
            "28                     Hct    0.014720\n",
            "23               Magnesium    0.013518\n",
            "38  Incomplete_qSOFA_Score    0.013244\n",
            "25               Potassium    0.013156\n",
            "1                    O2Sat    0.011684\n",
            "42                    hour    0.009401\n",
            "3                      SBP    0.007071\n",
            "43                     day    0.002964\n",
            "44                   month    0.000000\n",
            "45                 weekday    0.000000\n"
          ]
        }
      ]
    }
  ]
}